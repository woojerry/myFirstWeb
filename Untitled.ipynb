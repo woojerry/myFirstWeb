{
 "cells": [
  {
   "cell_type": "code",
   "execution_count": 13,
   "metadata": {},
   "outputs": [
    {
     "name": "stdout",
     "output_type": "stream",
     "text": [
      "홍원찬\n",
      "이철하\n",
      "하시모토 마사카즈\n",
      "양우석\n",
      "연상호\n"
     ]
    }
   ],
   "source": [
    "import requests\n",
    "from bs4 import BeautifulSoup\n",
    "\n",
    "# URL을 읽어서 HTML를 받아오고,\n",
    "headers = {\n",
    "        'User-Agent': 'Mozilla/5.0 (Windows NT 10.0; Win64; x64)AppleWebKit/537.36 (KHTML, like Gecko) Chrome/73.0.3683.86 Safari/537.36'}\n",
    "data = requests.get('https://movie.naver.com/movie/running/current.nhn', headers=headers)\n",
    "soup = BeautifulSoup(data.text, 'html.parser')\n",
    "crawl_infos = soup.select('#content > div.article > div:nth-child(1) > div.lst_wrap > ul > li')\n",
    "for crawl_info in crawl_infos[0:5]:\n",
    "    movie_name = crawl_info.select_one('dl > dt > a').text\n",
    "    naver_score = crawl_info.select_one('dl > dd.star > dl.info_star > dd > div > a > span.num').text\n",
    "    movie_poster = crawl_info.select_one('div > a > img')['src'].split('?')[0]\n",
    "    movie_director = crawl_info.select_one('dl > dd:nth-child(3) > dl > dd:nth-child(4) > span > a').text\n",
    "    print(movie_director)"
   ]
  },
  {
   "cell_type": "code",
   "execution_count": null,
   "metadata": {},
   "outputs": [],
   "source": [
    "#contents > div.wrap-movie-chart > div.sect-movie-chart > ol:nth-child(2) > li:nth-child(2) > div.box-contents > div > div > span.percent"
   ]
  },
  {
   "cell_type": "code",
   "execution_count": null,
   "metadata": {},
   "outputs": [],
   "source": [
    "#contents > div.wrap-movie-chart > div.sect-movie-chart > ol:nth-child(2) > li:nth-child(2) > div.box-contents > div > strong"
   ]
  },
  {
   "cell_type": "code",
   "execution_count": 8,
   "metadata": {},
   "outputs": [
    {
     "name": "stdout",
     "output_type": "stream",
     "text": [
      "테넷\n"
     ]
    }
   ],
   "source": [
    "response = requests.get('http://www.kobis.or.kr/kobis/business/main/searchMainDailyBoxOffice.do')\n",
    "movies = response.json()\n",
    "\n",
    "    #기준일\n",
    "date = movies[0]['endDate']\n",
    "\n",
    "    #영화랭킹 Top3\n",
    "rank1 = movies[0]['movieNm']\n",
    "rank2 = movies[1]['movieNm']\n",
    "rank3 = movies[2]['movieNm']\n",
    "print(rank2)"
   ]
  },
  {
   "cell_type": "code",
   "execution_count": null,
   "metadata": {},
   "outputs": [],
   "source": []
  }
 ],
 "metadata": {
  "kernelspec": {
   "display_name": "Python 3",
   "language": "python",
   "name": "python3"
  },
  "language_info": {
   "codemirror_mode": {
    "name": "ipython",
    "version": 3
   },
   "file_extension": ".py",
   "mimetype": "text/x-python",
   "name": "python",
   "nbconvert_exporter": "python",
   "pygments_lexer": "ipython3",
   "version": "3.8.5"
  }
 },
 "nbformat": 4,
 "nbformat_minor": 4
}
