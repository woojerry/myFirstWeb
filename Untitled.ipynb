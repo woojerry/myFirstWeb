{
 "cells": [
  {
   "cell_type": "code",
   "execution_count": 11,
   "metadata": {},
   "outputs": [
    {
     "name": "stdout",
     "output_type": "stream",
     "text": [
      "4.0\n",
      "3.0\n",
      "3.9\n",
      "2.7\n",
      "3.9\n",
      "3.3\n",
      "4.0\n",
      "3.4\n",
      "4.1\n",
      "3.6\n"
     ]
    }
   ],
   "source": [
    "from flask import Flask, render_template, jsonify, request\n",
    "import requests\n",
    "from bs4 import BeautifulSoup\n",
    "from pymongo import MongoClient\n",
    "from selenium import webdriver\n",
    "# crawl_from_WATCHA PEDIA by selenium\n",
    "\n",
    "chrome = webdriver.Chrome('chromedriver.exe')\n",
    "chrome.get('https://pedia.watcha.com/ko-KR')\n",
    "\n",
    "    # time.sleep(3)\n",
    "    # chrome.find_element_by_css_selector('')\n",
    "source = chrome.page_source\n",
    "soup = BeautifulSoup(source, 'html.parser')\n",
    "    # chrome.quit( )\n",
    "crawl_from_watcha = soup.select('#root > div > div.css-1sh3zvx-NavContainer.ebsyszu0 > section > div > section > div:nth-child(1) >'\n",
    "                                    ' div.css-gc1vu8-StyledHorizontalScrollOuterContainer.ebeya3l4 > div > div.css-chidac-ScrollBar.e1f5xhlb1 > div > div > ul > li')\n",
    "for infos in crawl_from_watcha :\n",
    "    movie_name = infos.select_one('a > div.css-dmreg0-ContentInfo.e3fgkal2 > div.css-1teivyt-ContentTitle.e3fgkal3').text\n",
    "    #root > div > div.css-1sh3zvx-NavContainer.ebsyszu0 > section > div > section > div:nth-child(1) > div.css-gc1vu8-StyledHorizontalScrollOuterContainer.ebeya3l4 > div > div.css-chidac-ScrollBar.e1f5xhlb1 > div > div > ul > li:nth-child(1) > a > div.css-dmreg0-ContentInfo.e3fgkal2 > div.css-hyqnp8-StyledContentBoxOfficeStats.ebeya3l13\n",
    "    movie_attendance = infos.select_one('a > div.css-dmreg0-ContentInfo.e3fgkal2 > div.css-hyqnp8-StyledContentBoxOfficeStats.ebeya3l13').text.strip().split('・')[1]\n",
    "    watcha_score = infos.select_one('a > div.css-dmreg0-ContentInfo.e3fgkal2 > div.average.css-uaqea0-ContentRating-StyledContentRating.ebeya3l14 > span:nth-child(3)').text\n",
    "    print(watcha_score)"
   ]
  },
  {
   "cell_type": "code",
   "execution_count": null,
   "metadata": {},
   "outputs": [],
   "source": []
  }
 ],
 "metadata": {
  "kernelspec": {
   "display_name": "Python 3",
   "language": "python",
   "name": "python3"
  },
  "language_info": {
   "codemirror_mode": {
    "name": "ipython",
    "version": 3
   },
   "file_extension": ".py",
   "mimetype": "text/x-python",
   "name": "python",
   "nbconvert_exporter": "python",
   "pygments_lexer": "ipython3",
   "version": "3.8.5"
  }
 },
 "nbformat": 4,
 "nbformat_minor": 4
}
