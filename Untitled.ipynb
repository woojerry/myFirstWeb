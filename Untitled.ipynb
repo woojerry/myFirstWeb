{
 "cells": [
  {
   "cell_type": "code",
   "execution_count": 43,
   "metadata": {},
   "outputs": [
    {
     "name": "stdout",
     "output_type": "stream",
     "text": [
      "인셉션 99%\n",
      "시크릿 가든 ?\n",
      "강철비2-정상회담 86%\n",
      "반도 80%\n"
     ]
    }
   ],
   "source": [
    "import requests\n",
    "from bs4 import BeautifulSoup\n",
    "\n",
    "# URL을 읽어서 HTML를 받아오고,\n",
    "headers = {\n",
    "    'User-Agent': 'Mozilla/5.0 (Windows NT 10.0; Win64; x64)AppleWebKit/537.36 (KHTML, like Gecko) Chrome/73.0.3683.86 Safari/537.36'}\n",
    "data = requests.get('http://www.cgv.co.kr/movies', headers=headers)\n",
    "\n",
    "# HTML을 BeautifulSoup이라는 라이브러리를 활용해 검색하기 용이한 상태로 만듦\n",
    "soup = BeautifulSoup(data.text, 'html.parser')\n",
    "\n",
    "crawl_info =soup.select_one('#contents > div.wrap-movie-chart > div.sect-movie-chart')\n",
    "second_ol_info = crawl_info.select('ol:nth-child(3) > li')\n",
    "for infos in second_ol_info :\n",
    "        movie_name = infos.select_one('div.box-contents > a > strong').text\n",
    "        percent = infos.select_one('div.box-contents > div > div > span.percent').text\n",
    "        print(movie_name, percent)     "
   ]
  },
  {
   "cell_type": "code",
   "execution_count": null,
   "metadata": {},
   "outputs": [],
   "source": [
    "#contents > div.wrap-movie-chart > div.sect-movie-chart > ol:nth-child(2) > li:nth-child(2) > div.box-contents > div > div > span.percent"
   ]
  },
  {
   "cell_type": "code",
   "execution_count": null,
   "metadata": {},
   "outputs": [],
   "source": [
    "#contents > div.wrap-movie-chart > div.sect-movie-chart > ol:nth-child(2) > li:nth-child(2) > div.box-contents > div > strong"
   ]
  },
  {
   "cell_type": "code",
   "execution_count": 41,
   "metadata": {},
   "outputs": [
    {
     "name": "stdout",
     "output_type": "stream",
     "text": [
      "None 쇼생크 탈출 9.41\n",
      "None 원더 9.40\n",
      "None 터미네이터 2 9.39\n",
      "None 인생은 아름다워 9.39\n",
      "None 매트릭스 9.38\n",
      "None 레옹 9.38\n",
      "None 위대한 쇼맨 9.38\n",
      "None 포레스트 검프 9.38\n",
      "None 죽은 시인의 사회 9.38\n",
      "None 월-E 9.38\n",
      "None 나 홀로 집에 9.38\n",
      "None 빽 투 더 퓨쳐 9.38\n",
      "None 토이 스토리 3 9.37\n",
      "None 라이언 일병 구하기 9.37\n",
      "None 사운드 오브 뮤직 9.37\n",
      "None 살인의 추억 9.37\n",
      "None 센과 치히로의 행방불명 9.36\n",
      "None 반지의 제왕: 왕의 귀환 9.36\n",
      "None 헬프 9.36\n",
      "None 글래디에이터 9.36\n",
      "None 클래식 9.35\n",
      "None 패왕별희 9.35\n",
      "None 동주 9.35\n",
      "None 미세스 다웃파이어 9.35\n",
      "None 아이 캔 스피크 9.35\n",
      "None 굿바이 마이 프랜드 9.35\n",
      "None 여인의 향기 9.35\n",
      "None 주토피아 9.35\n",
      "None 반지의 제왕: 두 개의 탑 9.35\n",
      "None 캐스트 어웨이 9.34\n",
      "None 에이리언 2 9.34\n",
      "None 세 얼간이 9.34\n",
      "None 울지마 톤즈 9.34\n",
      "None 아마데우스 9.34\n",
      "None 서유기 2 - 선리기연 9.34\n",
      "None 쉰들러 리스트 9.34\n",
      "None 그대를 사랑합니다 9.34\n",
      "None 언터처블: 1%의 우정 9.33\n",
      "None 뷰티풀 투모로우 9.33\n",
      "None 빌리 엘리어트 뮤지컬 라이브 9.33\n",
      "None 드래곤 길들이기 9.33\n",
      "None 지금, 만나러 갑니다 9.33\n",
      "None 알라딘 9.33\n",
      "None 히든 피겨스 9.33\n",
      "None 굿 윌 헌팅 9.33\n",
      "None 모노노케 히메 9.33\n",
      "None 다크 나이트 9.32\n",
      "None 토이 스토리 9.32\n",
      "None 아이언 자이언트 9.32\n",
      "None 오페라의 유령 : 25주년 특별 공연 9.32\n"
     ]
    }
   ],
   "source": []
  },
  {
   "cell_type": "code",
   "execution_count": null,
   "metadata": {},
   "outputs": [],
   "source": []
  }
 ],
 "metadata": {
  "kernelspec": {
   "display_name": "Python 3",
   "language": "python",
   "name": "python3"
  },
  "language_info": {
   "codemirror_mode": {
    "name": "ipython",
    "version": 3
   },
   "file_extension": ".py",
   "mimetype": "text/x-python",
   "name": "python",
   "nbconvert_exporter": "python",
   "pygments_lexer": "ipython3",
   "version": "3.8.5"
  }
 },
 "nbformat": 4,
 "nbformat_minor": 4
}
