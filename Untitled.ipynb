{
 "cells": [
  {
   "cell_type": "code",
   "execution_count": 10,
   "metadata": {},
   "outputs": [
    {
     "name": "stdout",
     "output_type": "stream",
     "text": [
      "[]\n"
     ]
    }
   ],
   "source": [
    "import requests\n",
    "from bs4 import BeautifulSoup\n",
    "with open('templates/test.html', 'r', encoding=\"UTF8\") as f:\n",
    "    content =  f.read()\n",
    "    soup =soup = BeautifulSoup(content, 'html.parser')\n",
    "    "
   ]
  },
  {
   "cell_type": "code",
   "execution_count": 48,
   "metadata": {},
   "outputs": [
    {
     "name": "stdout",
     "output_type": "stream",
     "text": [
      "예매율 52% ・ 누적 관객 66만명\n",
      "예매율 29% ・ 누적 관객 50명\n",
      "예매율 5.2% ・ 누적 관객 425만명\n",
      "예매율 1.4% ・ 누적 관객 120만명\n",
      "예매율 1.1% ・ 누적 관객 2만명\n",
      "예매율 0.9% ・ 누적 관객 9만명\n",
      "예매율 0.8% ・ 누적 관객 1만명\n"
     ]
    }
   ],
   "source": [
    "crawl_from_watcha = soup.select('ul.ebeya3l0.css-wvdjot-VisualUl-StyledHorizontalUl-StyledHorizontalUlWithContentPosterList-RowList.eykn4p10>li')\n",
    "#print(crawl_from_watcha)\n",
    "for infos in crawl_from_watcha[0:7]:\n",
    "    movie_name = infos.select_one('a > div > div.css-1teivyt-ContentTitle.e3fgkal3').text\n",
    " #   movie_attendance = infos.select_one('a > div > div.css-hyqnp8-StyledContentBoxOfficeStats.ebeya3l13').text.strip().split('・')[1]\n",
    "    movie_attendance = infos.select_one('a > div:nth-child(2) > div:nth-child(4)').text\n",
    "    watcha_score = infos.select_one('a > div > div> span:nth-child(3)').text\n",
    "    print(movie_attendance)\n"
   ]
  },
  {
   "cell_type": "code",
   "execution_count": 5,
   "metadata": {},
   "outputs": [
    {
     "ename": "NameError",
     "evalue": "name 'webdriver' is not defined",
     "output_type": "error",
     "traceback": [
      "\u001b[1;31m---------------------------------------------------------------------------\u001b[0m",
      "\u001b[1;31mNameError\u001b[0m                                 Traceback (most recent call last)",
      "\u001b[1;32m<ipython-input-5-e7a59bce4522>\u001b[0m in \u001b[0;36m<module>\u001b[1;34m\u001b[0m\n\u001b[0;32m      1\u001b[0m \u001b[1;32mimport\u001b[0m \u001b[0mrequests\u001b[0m\u001b[1;33m\u001b[0m\u001b[1;33m\u001b[0m\u001b[0m\n\u001b[0;32m      2\u001b[0m \u001b[1;32mfrom\u001b[0m \u001b[0mbs4\u001b[0m \u001b[1;32mimport\u001b[0m \u001b[0mBeautifulSoup\u001b[0m\u001b[1;33m\u001b[0m\u001b[1;33m\u001b[0m\u001b[0m\n\u001b[1;32m----> 3\u001b[1;33m \u001b[0mchrome_options\u001b[0m \u001b[1;33m=\u001b[0m \u001b[0mwebdriver\u001b[0m\u001b[1;33m.\u001b[0m\u001b[0mChromeOptions\u001b[0m\u001b[1;33m(\u001b[0m\u001b[1;33m)\u001b[0m\u001b[1;33m\u001b[0m\u001b[1;33m\u001b[0m\u001b[0m\n\u001b[0m\u001b[0;32m      4\u001b[0m \u001b[0mchrome_options\u001b[0m\u001b[1;33m.\u001b[0m\u001b[0madd_argument\u001b[0m\u001b[1;33m(\u001b[0m\u001b[1;34m'headless'\u001b[0m\u001b[1;33m)\u001b[0m\u001b[1;33m\u001b[0m\u001b[1;33m\u001b[0m\u001b[0m\n\u001b[0;32m      5\u001b[0m \u001b[0mchrome_options\u001b[0m\u001b[1;33m.\u001b[0m\u001b[0madd_argument\u001b[0m\u001b[1;33m(\u001b[0m\u001b[1;34m'--disable-gpu'\u001b[0m\u001b[1;33m)\u001b[0m\u001b[1;33m\u001b[0m\u001b[1;33m\u001b[0m\u001b[0m\n",
      "\u001b[1;31mNameError\u001b[0m: name 'webdriver' is not defined"
     ]
    }
   ],
   "source": [
    "import requests\n",
    "from bs4 import BeautifulSoup\n",
    "chrome_options = webdriver.ChromeOptions()\n",
    "chrome_options.add_argument('headless')\n",
    "chrome_options.add_argument('--disable-gpu')\n",
    "chrome_options.add_argument('lang=ko_KR')\n",
    "driver = webdriver.Chrome('chromedriver.exe', chrome_options=chrome_options)                     # 디버깅 시 -> chromedriver.exe 배포시에는 -> /home/ubuntu/my_project/chromedriver\n",
    "driver.implicitly_wait(1)\n",
    "driver.get('https://pedia.watcha.com/ko-KR')    # chrome.find_element_by_css_selector('')\n",
    "source = driver.page_source\n",
    "soup = BeautifulSoup(source, 'html.parser')\n",
    "crawl_from_watcha = soup.select('#root > div > div.css-1sh3zvx-NavContainer.ebsyszu0 > section > div > section > div:nth-child(1) >'\n",
    "                                    ' div.css-gc1vu8-StyledHorizontalScrollOuterContainer.ebeya3l4 > div > div.css-chidac-ScrollBar.e1f5xhlb1 > div > div > ul > li')\n",
    "for infos in crawl_from_watcha[0:7]:\n",
    "    movie_name = infos.select_one('a > div.css-dmreg0-ContentInfo.e3fgkal2 > div.css-1teivyt-ContentTitle.e3fgkal3').text\n",
    "    movie_attendance = infos.select_one('a > div.css-dmreg0-ContentInfo.e3fgkal2 > div.css-hyqnp8-StyledContentBoxOfficeStats.ebeya3l13').text.strip().split('・')[1]\n",
    "    watcha_score = infos.select_one('a > div.css-dmreg0-ContentInfo.e3fgkal2 > div.average.css-uaqea0-ContentRating-StyledContentRating.ebeya3l14 > span:nth-child(3)').text\n",
    "    print(movie_name)"
   ]
  },
  {
   "cell_type": "code",
   "execution_count": null,
   "metadata": {},
   "outputs": [],
   "source": []
  }
 ],
 "metadata": {
  "kernelspec": {
   "display_name": "Python 3",
   "language": "python",
   "name": "python3"
  },
  "language_info": {
   "codemirror_mode": {
    "name": "ipython",
    "version": 3
   },
   "file_extension": ".py",
   "mimetype": "text/x-python",
   "name": "python",
   "nbconvert_exporter": "python",
   "pygments_lexer": "ipython3",
   "version": "3.8.5"
  }
 },
 "nbformat": 4,
 "nbformat_minor": 4
}
